{
 "metadata": {
  "language_info": {
   "codemirror_mode": {
    "name": "ipython",
    "version": 3
   },
   "file_extension": ".py",
   "mimetype": "text/x-python",
   "name": "python",
   "nbconvert_exporter": "python",
   "pygments_lexer": "ipython3",
   "version": "3.7.9-final"
  },
  "orig_nbformat": 2,
  "kernelspec": {
   "name": "python3",
   "display_name": "Python 3",
   "language": "python"
  }
 },
 "nbformat": 4,
 "nbformat_minor": 2,
 "cells": [
  {
   "source": [
    "# AutoGit\n",
    "\n",
    "通过pygit2实现。\n",
    "\n",
    "## 开发进度\n",
    "\n",
    "It Just Work!\n",
    "* init repo\n",
    "* add\n",
    "* commit\n",
    "* get commit sha\n",
    "\n",
    "## 目标\n",
    "\n",
    "### 使用情景：\n",
    "* 编写神经网络程序\n",
    "* 设置参数\n",
    "* 自动commit到HEAD，并记录sha\n",
    "* 实验进行\n",
    "* 生成实验记录，包括实验开始前的commit-sha\n",
    "\n",
    "### 注意：\n",
    "* git不能代替“实验输入”和“实验输出”的记录。只是程序在开发中，经常变动。\n"
   ],
   "cell_type": "markdown",
   "metadata": {}
  },
  {
   "source": [
    "## 程序体"
   ],
   "cell_type": "markdown",
   "metadata": {}
  },
  {
   "cell_type": "code",
   "execution_count": 6,
   "metadata": {},
   "outputs": [
    {
     "output_type": "stream",
     "name": "stdout",
     "text": [
      "d:\\Workspace\\ADMM_Net\\MyHumbleADMM2\\MLP\\AutoGit\n"
     ]
    }
   ],
   "source": [
    "import pygit2\n",
    "from pygit2 import Signature\n",
    "from pygit2 import Repository,discover_repository\n",
    "from pygit2 import reference_is_valid_name\n",
    "import os \n",
    "import time\n",
    "\n",
    "print(os.getcwd())\n"
   ]
  },
  {
   "cell_type": "code",
   "execution_count": 7,
   "metadata": {},
   "outputs": [
    {
     "output_type": "stream",
     "name": "stdout",
     "text": [
      "repo.path= d:/Workspace/ADMM_Net/MyHumbleADMM2/MLP/AutoGit/.git/\n"
     ]
    }
   ],
   "source": [
    "if not os.path.exists('.git'):\n",
    "    print('init repo')\n",
    "    repo =  pygit2.init_repository('.', bare=False, flags=16, mode=0, workdir_path=None, description=None, template_path=None, initial_head=None, origin_url=None)\n",
    "else:\n",
    "    current_working_directory = os.getcwd()\n",
    "    repository_path = discover_repository(current_working_directory)\n",
    "    repo = Repository(repository_path)\n",
    "print('repo.path=',repo.path)"
   ]
  },
  {
   "cell_type": "code",
   "execution_count": 8,
   "metadata": {},
   "outputs": [],
   "source": [
    "def mycommit(repo,msg,is_first=False):\n",
    "    index = repo.index\n",
    "    status = repo.status()\n",
    "    for filepath, flag in status.items():\n",
    "        if flag == GIT_STATUS_WT_DELETED:\n",
    "            #msg = 'Remove file %s' % filepath\n",
    "            del index[filepath]\n",
    "            \n",
    "        elif flag == GIT_STATUS_WT_NEW:\n",
    "            #msg = 'Add file %s' % filepath\n",
    "            index.add(filepath)\n",
    "            \n",
    "        elif flag == GIT_STATUS_WT_MODIFIED:\n",
    "            #msg = 'Change file %s' % filepath\n",
    "            index.add(filepath)\n",
    "       # else:\n",
    "            #raise Exception([filepath,statusFlag(flag)])\n",
    "    cmt = docommit(repo, index, msg,is_first)\n",
    "    return cmt\n",
    "\n",
    "def docommit(repo, index, msg,is_first=False):\n",
    "    index.write()\n",
    "    tree = index.write_tree()\n",
    "    committer = Signature('gitsync', 'root@localhost')\n",
    "    ref = 'HEAD' \n",
    "    parents = [] if is_first else [repo.head.target]\n",
    "    sha = repo.create_commit(\n",
    "        ref, committer, committer, msg, tree, parents)\n",
    "    commit = repo[sha]\n",
    "    return commit\n"
   ]
  },
  {
   "cell_type": "code",
   "execution_count": 10,
   "metadata": {},
   "outputs": [
    {
     "output_type": "stream",
     "name": "stdout",
     "text": [
      "GIT_STATUS_CURRENT=0\nGIT_STATUS_INDEX_NEW=1\nGIT_STATUS_INDEX_MODIFIED=2\nGIT_STATUS_INDEX_DELETED=4\nGIT_STATUS_INDEX_RENAMED=8\nGIT_STATUS_INDEX_TYPECHANGE=16\nGIT_STATUS_WT_NEW=128\nGIT_STATUS_WT_MODIFIED=256\nGIT_STATUS_WT_DELETED=512\nGIT_STATUS_WT_TYPECHANGE=1024\nGIT_STATUS_WT_RENAMED=2048\nGIT_STATUS_WT_UNREADABLE=4096\nGIT_STATUS_IGNORED=16384\nGIT_STATUS_CONFLICTED=32768\n"
     ]
    }
   ],
   "source": [
    "s = 'GIT_STATUS_CURRENT,GIT_STATUS_INDEX_NEW,GIT_STATUS_INDEX_MODIFIED,GIT_STATUS_INDEX_DELETED,GIT_STATUS_INDEX_RENAMED,GIT_STATUS_INDEX_TYPECHANGE,GIT_STATUS_WT_NEW,GIT_STATUS_WT_MODIFIED,GIT_STATUS_WT_DELETED,GIT_STATUS_WT_TYPECHANGE,GIT_STATUS_WT_RENAMED,GIT_STATUS_WT_UNREADABLE,GIT_STATUS_IGNORED,GIT_STATUS_CONFLICTED'\n",
    "names = s.split(',')\n",
    "from pygit2 import GIT_STATUS_CURRENT,GIT_STATUS_INDEX_NEW,GIT_STATUS_INDEX_MODIFIED,GIT_STATUS_INDEX_DELETED,GIT_STATUS_INDEX_RENAMED,GIT_STATUS_INDEX_TYPECHANGE,GIT_STATUS_WT_NEW,GIT_STATUS_WT_MODIFIED,GIT_STATUS_WT_DELETED,GIT_STATUS_WT_TYPECHANGE,GIT_STATUS_WT_RENAMED,GIT_STATUS_WT_UNREADABLE,GIT_STATUS_IGNORED,GIT_STATUS_CONFLICTED\n",
    "\n",
    "values = [GIT_STATUS_CURRENT,GIT_STATUS_INDEX_NEW,GIT_STATUS_INDEX_MODIFIED,GIT_STATUS_INDEX_DELETED,GIT_STATUS_INDEX_RENAMED,GIT_STATUS_INDEX_TYPECHANGE,GIT_STATUS_WT_NEW,GIT_STATUS_WT_MODIFIED,GIT_STATUS_WT_DELETED,GIT_STATUS_WT_TYPECHANGE,GIT_STATUS_WT_RENAMED,GIT_STATUS_WT_UNREADABLE,GIT_STATUS_IGNORED,GIT_STATUS_CONFLICTED]\n",
    "\n",
    "for n,v in zip(names,values):\n",
    "    print('{}={}'.format(n,v))\n",
    "\n",
    "\n",
    "def statusFlag(flag_int):\n",
    "    s = 'GIT_STATUS_CURRENT,GIT_STATUS_INDEX_NEW,GIT_STATUS_INDEX_MODIFIED,GIT_STATUS_INDEX_DELETED,GIT_STATUS_INDEX_RENAMED,GIT_STATUS_INDEX_TYPECHANGE,GIT_STATUS_WT_NEW,GIT_STATUS_WT_MODIFIED,GIT_STATUS_WT_DELETED,GIT_STATUS_WT_TYPECHANGE,GIT_STATUS_WT_RENAMED,GIT_STATUS_WT_UNREADABLE,GIT_STATUS_IGNORED,GIT_STATUS_CONFLICTED'\n",
    "    names = s.split(',')\n",
    "\n",
    "    values = [GIT_STATUS_CURRENT,GIT_STATUS_INDEX_NEW,GIT_STATUS_INDEX_MODIFIED,GIT_STATUS_INDEX_DELETED,GIT_STATUS_INDEX_RENAMED,GIT_STATUS_INDEX_TYPECHANGE,GIT_STATUS_WT_NEW,GIT_STATUS_WT_MODIFIED,GIT_STATUS_WT_DELETED,GIT_STATUS_WT_TYPECHANGE,GIT_STATUS_WT_RENAMED,GIT_STATUS_WT_UNREADABLE,GIT_STATUS_IGNORED,GIT_STATUS_CONFLICTED]\n",
    "\n",
    "    iii = None\n",
    "    result = []\n",
    "    for i,v in enumerate(values):\n",
    "        if v&flag_int!=0:\n",
    "            result.append(names[i])\n",
    "    return result\n",
    "\n",
    "\n",
    "\n"
   ]
  },
  {
   "cell_type": "code",
   "execution_count": 11,
   "metadata": {},
   "outputs": [
    {
     "output_type": "stream",
     "name": "stdout",
     "text": [
      "AutoGit.html:['GIT_STATUS_WT_NEW'](128)\nAutoGit.ipynb:['GIT_STATUS_WT_MODIFIED'](256)\nAutoGit2.html:['GIT_STATUS_WT_NEW'](128)\nAutoGit2.ipynb:['GIT_STATUS_WT_NEW'](128)\n"
     ]
    }
   ],
   "source": [
    "from pygit2 import GIT_STATUS_WT_DELETED,GIT_STATUS_WT_NEW,GIT_STATUS_WT_MODIFIED,GIT_STATUS_CURRENT\n",
    "\n",
    "status = repo.status()\n",
    "for filepath, flag in status.items():\n",
    "    print('{}:{}({})'.format(filepath,statusFlag(flag),flag))"
   ]
  },
  {
   "cell_type": "code",
   "execution_count": 12,
   "metadata": {},
   "outputs": [
    {
     "output_type": "stream",
     "name": "stdout",
     "text": [
      "['master', 'new-branch']\nTrue\n<built-in method status of Repository object at 0x000001E507263048>\n{'AutoGit.html': 128, 'AutoGit.ipynb': 256, 'AutoGit2.html': 128, 'AutoGit2.ipynb': 128}\n"
     ]
    }
   ],
   "source": [
    "#list(repo.walk('master'))\n",
    "print(list(repo.branches))\n",
    "print(reference_is_valid_name(\"HEAD\"))\n",
    "print(repo.status)\n",
    "print(repo.status())\n"
   ]
  },
  {
   "cell_type": "code",
   "execution_count": 7,
   "metadata": {},
   "outputs": [
    {
     "output_type": "stream",
     "name": "stdout",
     "text": [
      "<pygit2.Object{commit:ac68f819e035ac4ae2a17a8dc046d59d77f58e55}>\n"
     ]
    }
   ],
   "source": [
    "cmt = mycommit(repo,'first',True)\n",
    "print(cmt)\n",
    "\n"
   ]
  },
  {
   "cell_type": "code",
   "execution_count": 12,
   "metadata": {},
   "outputs": [
    {
     "output_type": "stream",
     "name": "stdout",
     "text": [
      "<pygit2.Object{commit:a1f4fdbda3bcec69430d81892f689444d8d41b8a}>\n"
     ]
    }
   ],
   "source": [
    "cmt = mycommit(repo,'2nd')\n",
    "print(cmt)"
   ]
  },
  {
   "cell_type": "code",
   "execution_count": 13,
   "metadata": {},
   "outputs": [
    {
     "output_type": "stream",
     "name": "stdout",
     "text": [
      "<pygit2.Object{commit:5ff88ab9774c465160fb5b923e68d8c4313ab0b9}>\n"
     ]
    }
   ],
   "source": [
    "cmt = mycommit(repo,'3nd')\n",
    "print(cmt)"
   ]
  },
  {
   "cell_type": "code",
   "execution_count": null,
   "metadata": {},
   "outputs": [],
   "source": []
  }
 ]
}