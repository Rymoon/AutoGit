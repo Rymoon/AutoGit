{
 "metadata": {
  "language_info": {
   "codemirror_mode": {
    "name": "ipython",
    "version": 3
   },
   "file_extension": ".py",
   "mimetype": "text/x-python",
   "name": "python",
   "nbconvert_exporter": "python",
   "pygments_lexer": "ipython3",
   "version": "3.7.9-final"
  },
  "orig_nbformat": 2,
  "kernelspec": {
   "name": "python3",
   "display_name": "Python 3",
   "language": "python"
  }
 },
 "nbformat": 4,
 "nbformat_minor": 2,
 "cells": [
  {
   "source": [
    "# AutoGit\n",
    "\n",
    "通过pygit2实现。"
   ],
   "cell_type": "markdown",
   "metadata": {}
  },
  {
   "cell_type": "code",
   "execution_count": null,
   "metadata": {},
   "outputs": [],
   "source": [
    "import pygit2\n",
    "from pygit2 import Signature\n",
    "from pygit2 import reference_is_valid_name\n",
    "import os \n",
    "import time\n",
    "\n",
    "print(os.getcwd())\n"
   ]
  },
  {
   "cell_type": "code",
   "execution_count": null,
   "metadata": {},
   "outputs": [],
   "source": [
    "if not os.path.exists('.git'):\n",
    "    print('init repo')\n",
    "    repo =  pygit2.init_repository('.', bare=False, flags=16, mode=0, workdir_path=None, description=None, template_path=None, initial_head=None, origin_url=None)\n",
    "print('repo.path=',repo.path)"
   ]
  },
  {
   "cell_type": "code",
   "execution_count": null,
   "metadata": {},
   "outputs": [],
   "source": [
    "def mycommit(repo,msg,is_first=False):\n",
    "    index = repo.index\n",
    "    status = repo.status()\n",
    "    for filepath, flag in status.items():\n",
    "        if flag == GIT_STATUS_WT_DELETED:\n",
    "            msg = 'Remove file %s' % filepath\n",
    "            del index[filepath]\n",
    "            \n",
    "        elif flag == GIT_STATUS_WT_NEW:\n",
    "            msg = 'Add file %s' % filepath\n",
    "            index.add(filepath)\n",
    "            \n",
    "        elif flag == GIT_STATUS_WT_MODIFIED:\n",
    "            msg = 'Change file %s' % filepath\n",
    "            index.add(filepath)\n",
    "            \n",
    "        else:\n",
    "            Exception([filepath,statusFlag(flag)])\n",
    "    cmt = docommit(repo, index, msg,is_first)\n",
    "    return cmt\n",
    "\n",
    "def docommit(repo, index, msg,is_first=False):\n",
    "    index.write()\n",
    "    tree = index.write_tree()\n",
    "    committer = Signature('gitsync', 'root@localhost')\n",
    "    ref = 'HEAD' if is_first else repo.head\n",
    "    parents = [] if is_first else [repo.head.hex]\n",
    "    sha = repo.create_commit(\n",
    "        ref, committer, committer, msg, tree, parents)\n",
    "    commit = repo[sha]\n",
    "    return commit\n"
   ]
  },
  {
   "cell_type": "code",
   "execution_count": null,
   "metadata": {},
   "outputs": [],
   "source": [
    "s = 'GIT_STATUS_CURRENT,GIT_STATUS_INDEX_NEW,GIT_STATUS_INDEX_MODIFIED,GIT_STATUS_INDEX_DELETED,GIT_STATUS_INDEX_RENAMED,GIT_STATUS_INDEX_TYPECHANGE,GIT_STATUS_WT_NEW,GIT_STATUS_WT_MODIFIED,GIT_STATUS_WT_DELETED,GIT_STATUS_WT_TYPECHANGE,GIT_STATUS_WT_RENAMED,GIT_STATUS_WT_UNREADABLE,GIT_STATUS_IGNORED,GIT_STATUS_CONFLICTED'\n",
    "names = s.split(',')\n",
    "from pygit2 import GIT_STATUS_CURRENT,GIT_STATUS_INDEX_NEW,GIT_STATUS_INDEX_MODIFIED,GIT_STATUS_INDEX_DELETED,GIT_STATUS_INDEX_RENAMED,GIT_STATUS_INDEX_TYPECHANGE,GIT_STATUS_WT_NEW,GIT_STATUS_WT_MODIFIED,GIT_STATUS_WT_DELETED,GIT_STATUS_WT_TYPECHANGE,GIT_STATUS_WT_RENAMED,GIT_STATUS_WT_UNREADABLE,GIT_STATUS_IGNORED,GIT_STATUS_CONFLICTED\n",
    "\n",
    "values = [GIT_STATUS_CURRENT,GIT_STATUS_INDEX_NEW,GIT_STATUS_INDEX_MODIFIED,GIT_STATUS_INDEX_DELETED,GIT_STATUS_INDEX_RENAMED,GIT_STATUS_INDEX_TYPECHANGE,GIT_STATUS_WT_NEW,GIT_STATUS_WT_MODIFIED,GIT_STATUS_WT_DELETED,GIT_STATUS_WT_TYPECHANGE,GIT_STATUS_WT_RENAMED,GIT_STATUS_WT_UNREADABLE,GIT_STATUS_IGNORED,GIT_STATUS_CONFLICTED]\n",
    "\n",
    "for n,v in zip(names,values):\n",
    "    print('{}={}'.format(n,v))\n",
    "\n",
    "\n",
    "def statusFlag(flag_int):\n",
    "    s = 'GIT_STATUS_CURRENT,GIT_STATUS_INDEX_NEW,GIT_STATUS_INDEX_MODIFIED,GIT_STATUS_INDEX_DELETED,GIT_STATUS_INDEX_RENAMED,GIT_STATUS_INDEX_TYPECHANGE,GIT_STATUS_WT_NEW,GIT_STATUS_WT_MODIFIED,GIT_STATUS_WT_DELETED,GIT_STATUS_WT_TYPECHANGE,GIT_STATUS_WT_RENAMED,GIT_STATUS_WT_UNREADABLE,GIT_STATUS_IGNORED,GIT_STATUS_CONFLICTED'\n",
    "    names = s.split(',')\n",
    "\n",
    "    values = [GIT_STATUS_CURRENT,GIT_STATUS_INDEX_NEW,GIT_STATUS_INDEX_MODIFIED,GIT_STATUS_INDEX_DELETED,GIT_STATUS_INDEX_RENAMED,GIT_STATUS_INDEX_TYPECHANGE,GIT_STATUS_WT_NEW,GIT_STATUS_WT_MODIFIED,GIT_STATUS_WT_DELETED,GIT_STATUS_WT_TYPECHANGE,GIT_STATUS_WT_RENAMED,GIT_STATUS_WT_UNREADABLE,GIT_STATUS_IGNORED,GIT_STATUS_CONFLICTED]\n",
    "\n",
    "    iii = None\n",
    "    result = []\n",
    "    for i,v in enumerate(values):\n",
    "        if v&flag_int!=0:\n",
    "            result.append(names[i])\n",
    "    return result\n",
    "\n",
    "\n",
    "\n"
   ]
  },
  {
   "cell_type": "code",
   "execution_count": null,
   "metadata": {},
   "outputs": [],
   "source": [
    "from pygit2 import GIT_STATUS_WT_DELETED,GIT_STATUS_WT_NEW,GIT_STATUS_WT_MODIFIED,GIT_STATUS_CURRENT\n",
    "\n",
    "status = repo.status()\n",
    "for filepath, flag in status.items():\n",
    "    print('{}:{}({})'.format(filepath,statusFlag(flag),flag))"
   ]
  },
  {
   "cell_type": "code",
   "execution_count": null,
   "metadata": {},
   "outputs": [],
   "source": [
    "#list(repo.walk('master'))\n",
    "print(list(repo.branches))\n",
    "print(reference_is_valid_name(\"HEAD\"))\n",
    "print(repo.status)\n",
    "print(repo.status())\n"
   ]
  },
  {
   "cell_type": "code",
   "execution_count": null,
   "metadata": {},
   "outputs": [],
   "source": [
    "cmt = mycommit(repo,'first',True)\n",
    "print(cmt)\n",
    "\n"
   ]
  },
  {
   "cell_type": "code",
   "execution_count": null,
   "metadata": {},
   "outputs": [],
   "source": [
    "cmt = mycommit(repo,'2nd')\n",
    "print(cmt)"
   ]
  }
 ]
}