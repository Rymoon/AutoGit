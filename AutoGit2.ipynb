{
 "metadata": {
  "language_info": {
   "codemirror_mode": {
    "name": "ipython",
    "version": 3
   },
   "file_extension": ".py",
   "mimetype": "text/x-python",
   "name": "python",
   "nbconvert_exporter": "python",
   "pygments_lexer": "ipython3",
   "version": "3.7.9-final"
  },
  "orig_nbformat": 2,
  "kernelspec": {
   "name": "python3",
   "display_name": "Python 3",
   "language": "python"
  }
 },
 "nbformat": 4,
 "nbformat_minor": 2,
 "cells": [
  {
   "source": [
    "# AutoGit2\n",
    "\n",
    "分类总结。"
   ],
   "cell_type": "code",
   "metadata": {},
   "execution_count": null,
   "outputs": []
  },
  {
   "cell_type": "code",
   "execution_count": 1,
   "metadata": {},
   "outputs": [],
   "source": [
    "import pygit2,os\n",
    "from pygit2 import discover_repository,Repository"
   ]
  },
  {
   "source": [
    "## Repo"
   ],
   "cell_type": "markdown",
   "metadata": {}
  },
  {
   "source": [
    "### git-init\n",
    "\n",
    "Creating a new repository\n",
    "\n",
    "Create bare repository\n",
    "\n",
    "`$ git init --bare path/to/git`\n",
    "\n",
    "````\n",
    ">>> pygit2.init_repository('path/to/git', True)\n",
    "<pygit2.repository.Repository object at 0x10f08b680>\n",
    "Create standard repository\n",
    "````\n",
    "\n",
    "`$ git init path/to/git`\n",
    "\n",
    "````\n",
    ">>> pygit2.init_repository('path/to/git', False)\n",
    "<pygit2.repository.Repository object at 0x10f08b680>\n",
    "````"
   ],
   "cell_type": "markdown",
   "metadata": {}
  },
  {
   "source": [
    "### 查找并打开repo"
   ],
   "cell_type": "markdown",
   "metadata": {}
  },
  {
   "cell_type": "code",
   "execution_count": 2,
   "metadata": {},
   "outputs": [],
   "source": [
    "current_working_directory = os.getcwd()\n",
    "repository_path = discover_repository(current_working_directory)\n",
    "repo = Repository(repository_path)"
   ]
  },
  {
   "source": [
    "## 引用Reference、Oid、commit的转化"
   ],
   "cell_type": "markdown",
   "metadata": {}
  },
  {
   "source": [
    "`class pygit2.Repository(path=None, flags=0).resolve_refish(refish)`\n",
    "\n",
    "Convert a reference-like short name “ref-ish” to a valid (commit, reference) pair.\n",
    "\n",
    "If ref-ish points to a commit, the reference element of the result will be None.\n",
    "\n",
    "Examples:\n",
    "````python\n",
    "repo.resolve_refish('mybranch')\n",
    "repo.resolve_refish('sometag')\n",
    "repo.resolve_refish('origin/master')\n",
    "repo.resolve_refish('bbb78a9')\n",
    "````"
   ],
   "cell_type": "markdown",
   "metadata": {}
  },
  {
   "cell_type": "code",
   "execution_count": 18,
   "metadata": {},
   "outputs": [
    {
     "output_type": "stream",
     "name": "stdout",
     "text": [
      "type of object:\nrepo.head:\n\t<class '_pygit2.Reference'>\nrepo.head.target:\n\t<class '_pygit2.Oid'>\nrepo.head.resolve():\n\t<class '_pygit2.Reference'>\nrepo.resolve_refish(\"HEAD\"):\n\t<class 'tuple'>\n\t==(<pygit2.Object{commit:a1f4fdbda3bcec69430d81892f689444d8d41b8a}>, <class '_pygit2.Reference'>)\nrepo[repo.head.target]:\n\t<pygit2.Object{commit:a1f4fdbda3bcec69430d81892f689444d8d41b8a}>\nrepo.head.peel():\n\t<pygit2.Object{commit:a1f4fdbda3bcec69430d81892f689444d8d41b8a}>\n"
     ]
    }
   ],
   "source": [
    "print('type of object:')\n",
    "print('repo.head:\\n\\t{}'.format(type(repo.head)))\n",
    "print('repo.head.target:\\n\\t{}'.format(type(repo.head.target)))\n",
    "print('repo.head.resolve():\\n\\t{}'.format(type(repo.head.resolve())))\n",
    "t= repo.resolve_refish('HEAD')\n",
    "print('repo.resolve_refish(\"HEAD\"):\\n\\t{}\\n\\t=={}'.format(type(t),(t[0],type(t[1]))))\n",
    "print('repo[repo.head.target]:\\n\\t{}'.format(repo[repo.head.target]))\n",
    "print('repo.head.peel():\\n\\t{}'.format(repo.head.peel()))"
   ]
  },
  {
   "source": [
    "## commit"
   ],
   "cell_type": "markdown",
   "metadata": {}
  },
  {
   "source": [
    "### create commit\n",
    "\n"
   ],
   "cell_type": "markdown",
   "metadata": {}
  },
  {
   "source": [
    "Creating commits\n",
    "\n",
    "````python\n",
    "class pygit2.Repository(path=None, flags=0)\n",
    "    create_commit(reference_name, author, committer, message, tree, parents[, encoding]) → Oid\n",
    "\n",
    "````\n",
    "\n",
    "Create a new commit object, return its oid.\n",
    "\n",
    "Commits can be created by calling the create_commit method of the repository with the following parameters:\n",
    "\n",
    "\n",
    "\n",
    "\n"
   ],
   "cell_type": "markdown",
   "metadata": {}
  },
  {
   "source": [
    "（在官方文档中）"
   ],
   "cell_type": "markdown",
   "metadata": {}
  },
  {
   "cell_type": "code",
   "execution_count": null,
   "metadata": {},
   "outputs": [],
   "source": [
    "\n",
    "author = Signature('Alice Author', 'alice@authors.tld')\n",
    "committer = Signature('Cecil Committer', 'cecil@committers.tld')\n",
    "tree = repo.TreeBuilder().write()\n",
    "repo.create_commit(\n",
    "'refs/heads/master', # the name of the reference to update\n",
    "author, committer, 'one line commit message\\n\\ndetailed commit message',\n",
    "tree, # binary string representing the tree object ID\n",
    "[] # list of binary strings representing parents of the new commit\n",
    ")\n",
    "'#\\xe4<u\\xfe\\xd6\\x17\\xa0\\xe6\\xa2\\x8b\\xb6\\xdc35$\\xcf-\\x8b~'"
   ]
  },
  {
   "source": [
    "（我实际使用的）"
   ],
   "cell_type": "markdown",
   "metadata": {}
  },
  {
   "cell_type": "code",
   "execution_count": null,
   "metadata": {},
   "outputs": [],
   "source": [
    "def mycommit(repo,msg,is_first=False):\n",
    "    index = repo.index\n",
    "    status = repo.status()\n",
    "    for filepath, flag in status.items():\n",
    "        if flag == GIT_STATUS_WT_DELETED:\n",
    "            msg = 'Remove file %s' % filepath\n",
    "            del index[filepath]\n",
    "            \n",
    "        elif flag == GIT_STATUS_WT_NEW:\n",
    "            msg = 'Add file %s' % filepath\n",
    "            index.add(filepath)\n",
    "            \n",
    "        elif flag == GIT_STATUS_WT_MODIFIED:\n",
    "            msg = 'Change file %s' % filepath\n",
    "            index.add(filepath)\n",
    "       # else:\n",
    "            #raise Exception([filepath,statusFlag(flag)])\n",
    "    cmt = docommit(repo, index, msg,is_first)\n",
    "    return cmt\n",
    "\n",
    "def docommit(repo, index, msg,is_first=False):\n",
    "    index.write()\n",
    "    tree = index.write_tree()\n",
    "    committer = Signature('gitsync', 'root@localhost')\n",
    "    ref = 'HEAD' \n",
    "    parents = [] if is_first else [repo.head.target]\n",
    "    sha = repo.create_commit(\n",
    "        ref, committer, committer, msg, tree, parents)\n",
    "    commit = repo[sha]\n",
    "    return commit"
   ]
  },
  {
   "source": [
    "### git-log\n",
    "\n",
    "Showing HEAD commit logs\n",
    "\n",
    "Show HEAD commit\n",
    "\n",
    "`$ git log -1`\n",
    "\n",
    "````\n",
    ">>> commit = repo[repo.head.target]\n",
    ">>> commit.message\n",
    "'commit message'\n",
    "````\n",
    "\n",
    "Traverse commit history\n",
    "\n",
    "`$ git log`\n",
    "\n",
    "````\n",
    ">>> last = repo[repo.head.target]\n",
    ">>> for commit in repo.walk(last.id, pygit2.GIT_SORT_TIME):\n",
    ">>>     print(commit.message) # or some other operation\n",
    "````"
   ],
   "cell_type": "markdown",
   "metadata": {}
  },
  {
   "cell_type": "code",
   "execution_count": 29,
   "metadata": {},
   "outputs": [
    {
     "output_type": "stream",
     "name": "stdout",
     "text": [
      "Attrs of Commit:\n\t ['_pointer', 'author', 'commit_time', 'commit_time_offset', 'committer', 'filemode', 'gpg_signature', 'hex', 'id', 'message', 'message_encoding', 'name', 'oid', 'parent_ids', 'parents', 'peel', 'raw_message', 'raw_name', 'read_raw', 'short_id', 'tree', 'tree_id', 'type', 'type_str']\nHEAD commit:\n\t_pointer:b'\\x10t\\x1c\\xc5\\x9d\\x01\\x00\\x00'\n\tauthor(<class '_pygit2.Signature'>):\n\t\temail:root@localhost\n\t\tname:gitsync\n\tcommit_time:1612277217\n\tcommit_time_offset:480\n\tcommitter(<class '_pygit2.Signature'>):\n\t\temail:root@localhost\n\t\tname:gitsync\n\tfilemode:None\n\tgpg_signature:(None, None)\n\thex:a1f4fdbda3bcec69430d81892f689444d8d41b8a\n\tid:a1f4fdbda3bcec69430d81892f689444d8d41b8a\n\tmessage:2nd\n\tmessage_encoding:None\n\tname:None\n\toid:a1f4fdbda3bcec69430d81892f689444d8d41b8a\n\tparent_ids:[ac68f819e035ac4ae2a17a8dc046d59d77f58e55]\n\tparents:[<pygit2.Object{commit:ac68f819e035ac4ae2a17a8dc046d59d77f58e55}>]\n\tpeel:<built-in method peel of _pygit2.Commit object at 0x0000019DC8B5D4E0>\n\traw_message:b'2nd'\n\traw_name:None\n\tread_raw:<built-in method read_raw of _pygit2.Commit object at 0x0000019DC8B5D4E0>\n\tshort_id:a1f4fdb\n\ttree:<pygit2.Object{tree:6e124adfe7f866b178a8f1a3dd8781c157de3688}>\n\ttree_id:6e124adfe7f866b178a8f1a3dd8781c157de3688\n\ttype:1\n\ttype_str:commit\n"
     ]
    }
   ],
   "source": [
    "cmt_c = repo.head.peel()\n",
    "print('Attrs of Commit:')\n",
    "s = dir(cmt_c)\n",
    "s = [name for name in s if name[:2]!='__']\n",
    "print('\\t',s)\n",
    "print('HEAD commit:')\n",
    "for name in s:\n",
    "    if name in ('author','committer'):\n",
    "        v = getattr(cmt_c,name)\n",
    "        print('\\t{}({}):'.format(name,type(v)))\n",
    "        print('\\t\\t{}:{}'.format('email',v.email))\n",
    "        print('\\t\\t{}:{}'.format('name',v.name))\n",
    "    else:\n",
    "        print('\\t{}:{}'.format(name,getattr(cmt_c,name)))"
   ]
  },
  {
   "source": [
    "## Reference"
   ],
   "cell_type": "markdown",
   "metadata": {}
  },
  {
   "source": [
    "\n",
    "````\n",
    "class pygit2.Repository(path=None, flags=0)\n",
    "    create_reference(name, target, force=False, message=None)\n",
    "````\n",
    "\n",
    "Create a new reference “name” which points to an object or to another reference.\n",
    "\n",
    "Based on the type and value of the target parameter, this method tries to guess whether it is a direct or a symbolic reference.\n",
    "\n",
    "Keyword arguments:\n",
    "\n",
    "`force: bool`\n",
    "\n",
    "If True references will be overridden, otherwise (the default) an exception is raised.\n",
    "\n",
    "`message: str`\n",
    "\n",
    "Optional message to use for the reflog.\n",
    "\n",
    "Examples:\n",
    "````python\n",
    "repo.create_reference('refs/heads/foo', repo.head.target)\n",
    "repo.create_reference('refs/tags/foo', 'refs/heads/master')\n",
    "repo.create_reference('refs/tags/foo', 'bbb78a9cec580') # i.e. create a tag\n",
    "````"
   ],
   "cell_type": "markdown",
   "metadata": {}
  },
  {
   "cell_type": "code",
   "execution_count": 8,
   "metadata": {},
   "outputs": [
    {
     "output_type": "stream",
     "name": "stdout",
     "text": [
      "refs/heads/master\n['refs/heads/master', 'refs/heads/new-branch', 'refs/remotes/origin/master']\n"
     ]
    }
   ],
   "source": [
    "print(repo.head.name)\n",
    "all_refs = list(repo.references)\n",
    "print(all_refs)"
   ]
  },
  {
   "source": [
    "### git-tag\n",
    "\n",
    "git-tag\n",
    "\n",
    "Showing all tags\n",
    "\n",
    "`$ git tag`\n",
    "\n",
    "````\n",
    "import re\n",
    "regex = re.compile('^refs/tags/')\n",
    "[r for r in repo.references if regex.match(r)]\n",
    "````"
   ],
   "cell_type": "markdown",
   "metadata": {}
  },
  {
   "source": [
    "### Equivalents"
   ],
   "cell_type": "markdown",
   "metadata": {}
  },
  {
   "cell_type": "code",
   "execution_count": 53,
   "metadata": {},
   "outputs": [
    {
     "output_type": "stream",
     "name": "stdout",
     "text": [
      "True\nTrue\nTrue\n"
     ]
    }
   ],
   "source": [
    "print(repo.head.target==repo.resolve_refish('HEAD')[1].target)\n",
    "print(repo.head.target == repo.references['HEAD'].resolve().target)\n",
    "print(repo.references.get('refs/heads/master').target==repo.references['refs/heads/master'].target)"
   ]
  },
  {
   "source": [
    "## Branches"
   ],
   "cell_type": "markdown",
   "metadata": {}
  },
  {
   "cell_type": "code",
   "execution_count": 45,
   "metadata": {},
   "outputs": [
    {
     "output_type": "stream",
     "name": "stdout",
     "text": [
      "['master', 'new-branch']\n['master', 'new-branch']\n[]\n"
     ]
    }
   ],
   "source": [
    "# Listing all branches\n",
    "branches_list = list(repo.branches)\n",
    "# Local only\n",
    "local_branches = list(repo.branches.local)\n",
    "# Remote only\n",
    "remote_branches = list(repo.branches.remote)\n",
    "\n",
    "\n",
    "print(branches_list)\n",
    "print(local_branches)\n",
    "print(remote_branches)"
   ]
  },
  {
   "cell_type": "code",
   "execution_count": 39,
   "metadata": {},
   "outputs": [
    {
     "output_type": "stream",
     "name": "stdout",
     "text": [
      "<_pygit2.Branch object at 0x0000019DC8CCC9B0>\nNone\nattrs of Branch:\n\t ['branch_name', 'delete', 'is_checked_out', 'is_head', 'log', 'name', 'peel', 'raw_branch_name', 'raw_name', 'raw_shorthand', 'raw_target', 'remote_name', 'rename', 'resolve', 'set_target', 'shorthand', 'target', 'type', 'upstream', 'upstream_name']\n\tbranch_name:master\n\tdelete:<built-in method delete of _pygit2.Branch object at 0x0000019DC8CCC9B0>\n\tis_checked_out:<built-in method is_checked_out of _pygit2.Branch object at 0x0000019DC8CCC9B0>\n\tis_head:<built-in method is_head of _pygit2.Branch object at 0x0000019DC8CCC9B0>\n\tlog:<built-in method log of _pygit2.Branch object at 0x0000019DC8CCC9B0>\n\tname:refs/heads/master\n\tpeel:<built-in method peel of _pygit2.Branch object at 0x0000019DC8CCC9B0>\n\traw_branch_name:b'master'\n\traw_name:b'refs/heads/master'\n\traw_shorthand:b'master'\n\traw_target:a1f4fdbda3bcec69430d81892f689444d8d41b8a\n\tremote_name(Exception)(<class 'ValueError'>):reference 'refs/heads/master' is not a remote branch.\n\trename:<built-in method rename of _pygit2.Branch object at 0x0000019DC8CCC9B0>\n\tresolve:<built-in method resolve of _pygit2.Branch object at 0x0000019DC8CCC9B0>\n\tset_target:<built-in method set_target of _pygit2.Branch object at 0x0000019DC8CCC9B0>\n\tshorthand:master\n\ttarget:a1f4fdbda3bcec69430d81892f689444d8d41b8a\n\ttype:1\n\tupstream:None\n\tupstream_name(Exception)(<class 'KeyError'>):\"config value 'branch.master.remote' was not found\"\n"
     ]
    }
   ],
   "source": [
    "\n",
    "# Get a branch\n",
    "branch = repo.branches['master']\n",
    "other_branch = repo.branches.get('does-not-exist')  # Returns None\n",
    "\n",
    "print(branch)\n",
    "print(other_branch)\n",
    "print('attrs of Branch:')\n",
    "s = dir(branch)\n",
    "s= [name for name in s if name[:2]!='__']\n",
    "print('\\t',s)\n",
    "for name in s:\n",
    "    try:\n",
    "        print('\\t{}:{}'.format(name,getattr(branch,name)))\n",
    "    except Exception as e:\n",
    "        print('\\t{}(Exception)({}):{}'.format(name,type(e),e))\n",
    "\n"
   ]
  },
  {
   "cell_type": "code",
   "execution_count": 36,
   "metadata": {},
   "outputs": [
    {
     "output_type": "error",
     "ename": "KeyError",
     "evalue": "'Branch not found: does-not-exist'",
     "traceback": [
      "\u001b[1;31m---------------------------------------------------------------------------\u001b[0m",
      "\u001b[1;31mKeyError\u001b[0m                                  Traceback (most recent call last)",
      "\u001b[1;32m<ipython-input-36-dd1a267bf024>\u001b[0m in \u001b[0;36m<module>\u001b[1;34m\u001b[0m\n\u001b[1;32m----> 1\u001b[1;33m \u001b[0mother_branch\u001b[0m \u001b[1;33m=\u001b[0m \u001b[0mrepo\u001b[0m\u001b[1;33m.\u001b[0m\u001b[0mbranches\u001b[0m\u001b[1;33m[\u001b[0m\u001b[1;34m'does-not-exist'\u001b[0m\u001b[1;33m]\u001b[0m  \u001b[1;31m# Will raise a KeyError\u001b[0m\u001b[1;33m\u001b[0m\u001b[1;33m\u001b[0m\u001b[0m\n\u001b[0m",
      "\u001b[1;32mE:\\Development\\anaconda\\envs\\qt\\lib\\site-packages\\pygit2\\repository.py\u001b[0m in \u001b[0;36m__getitem__\u001b[1;34m(self, name)\u001b[0m\n\u001b[0;32m   1350\u001b[0m \u001b[1;33m\u001b[0m\u001b[0m\n\u001b[0;32m   1351\u001b[0m         \u001b[1;32mif\u001b[0m \u001b[0mbranch\u001b[0m \u001b[1;32mis\u001b[0m \u001b[1;32mNone\u001b[0m \u001b[1;32mor\u001b[0m \u001b[1;32mnot\u001b[0m \u001b[0mself\u001b[0m\u001b[1;33m.\u001b[0m\u001b[0m_valid\u001b[0m\u001b[1;33m(\u001b[0m\u001b[0mbranch\u001b[0m\u001b[1;33m)\u001b[0m\u001b[1;33m:\u001b[0m\u001b[1;33m\u001b[0m\u001b[1;33m\u001b[0m\u001b[0m\n\u001b[1;32m-> 1352\u001b[1;33m             \u001b[1;32mraise\u001b[0m \u001b[0mKeyError\u001b[0m\u001b[1;33m(\u001b[0m\u001b[1;34m'Branch not found: {}'\u001b[0m\u001b[1;33m.\u001b[0m\u001b[0mformat\u001b[0m\u001b[1;33m(\u001b[0m\u001b[0mname\u001b[0m\u001b[1;33m)\u001b[0m\u001b[1;33m)\u001b[0m\u001b[1;33m\u001b[0m\u001b[1;33m\u001b[0m\u001b[0m\n\u001b[0m\u001b[0;32m   1353\u001b[0m \u001b[1;33m\u001b[0m\u001b[0m\n\u001b[0;32m   1354\u001b[0m         \u001b[1;32mreturn\u001b[0m \u001b[0mbranch\u001b[0m\u001b[1;33m\u001b[0m\u001b[1;33m\u001b[0m\u001b[0m\n",
      "\u001b[1;31mKeyError\u001b[0m: 'Branch not found: does-not-exist'"
     ]
    }
   ],
   "source": [
    "other_branch = repo.branches['does-not-exist']  # Will raise a KeyError"
   ]
  },
  {
   "cell_type": "code",
   "execution_count": null,
   "metadata": {},
   "outputs": [],
   "source": [
    "# remote_branch = repo.branches.remote['upstream/feature']\n"
   ]
  },
  {
   "cell_type": "code",
   "execution_count": 44,
   "metadata": {},
   "outputs": [
    {
     "output_type": "stream",
     "name": "stdout",
     "text": [
      "branches:\n['master', 'new-branch']\n"
     ]
    }
   ],
   "source": [
    "\n",
    "# Create a local branch\n",
    "new_branch = repo.branches.local.create('new-branch',repo.head.peel())\n",
    "\n",
    "print('branches:')\n",
    "print(list(repo.branches))\n",
    "\n",
    "\n"
   ]
  },
  {
   "cell_type": "code",
   "execution_count": 43,
   "metadata": {},
   "outputs": [
    {
     "output_type": "stream",
     "name": "stdout",
     "text": [
      "branches:\n['master']\n"
     ]
    }
   ],
   "source": [
    "# And delete it\n",
    "repo.branches.delete('new-branch')\n",
    "\n",
    "print('branches:')\n",
    "print(list(repo.branches))"
   ]
  },
  {
   "source": [
    "## Index\n",
    "\n"
   ],
   "cell_type": "markdown",
   "metadata": {}
  },
  {
   "source": [
    "### git-add / git-reset\n",
    "\n",
    "Add file contents to the index / Stage\n",
    "\n",
    "We can add a new (untracked) file or a modified file to the index.\n",
    "\n",
    "`$ git add foo.txt`\n",
    "\n",
    "````\n",
    ">>> index = repo.index\n",
    ">>> index.add(path)\n",
    ">>> index.write()\n",
    "````\n",
    "\n",
    "Restore the entry in the index / Unstage\n",
    "\n",
    "`$ git reset HEAD src/tree.c`\n",
    "\n",
    "````\n",
    ">>> index = repo.index\n",
    "\n",
    "# Remove path from the index\n",
    ">>> path = 'src/tree.c'\n",
    ">>> index.remove(path)\n",
    "\n",
    "# Restore object from db\n",
    ">>> obj = repo.revparse_single('HEAD').tree[path] # Get object from db\n",
    ">>> index.add(pygit2.IndexEntry(path, obj.oid, obj.filemode)) # Add to index\n",
    "\n",
    "# Write index\n",
    ">>> index.write()\n",
    "````\n",
    "\n",
    "Query the index state / Is file staged ?\n",
    "\n",
    "`$ git status foo.txt`\n",
    "\n",
    "````\n",
    "# Return True is the file is modified in the working tree\n",
    ">>> repo.status_file(path) & pygit2.GIT_STATUS_WT_MODIFIED\n",
    "````"
   ],
   "cell_type": "markdown",
   "metadata": {}
  },
  {
   "source": [
    "## Diff\n"
   ],
   "cell_type": "markdown",
   "metadata": {}
  },
  {
   "cell_type": "code",
   "execution_count": 5,
   "metadata": {},
   "outputs": [
    {
     "output_type": "stream",
     "name": "stdout",
     "text": [
      "diff --git a/AutoGit2.ipynb b/AutoGit2.ipynb\nindex 1ccf8f2..2a8f9b8 100644\n--- a/AutoGit2.ipynb\n+++ b/AutoGit2.ipynb\n@@ -35,7 +35,7 @@\n   },\n   {\n    \"cell_type\": \"code\",\n-   \"execution_count\": 4,\n+   \"execution_count\": 1,\n    \"metadata\": {},\n    \"outputs\": [],\n    \"source\": [\n@@ -85,7 +85,7 @@\n   },\n   {\n    \"cell_type\": \"code\",\n-   \"execution_count\": null,\n+   \"execution_count\": 2,\n    \"metadata\": {},\n    \"outputs\": [],\n    \"source\": [\n@@ -152,14 +152,12 @@\n    \"metadata\": {}\n   },\n   {\n-   \"cell_type\": \"code\",\n-   \"execution_count\": null,\n-   \"metadata\": {},\n-   \"outputs\": [],\n    \"source\": [\n     \"### create commit\\n\",\n     \"\\n\"\n-   ]\n+   ],\n+   \"cell_type\": \"markdown\",\n+   \"metadata\": {}\n   },\n   {\n    \"source\": [\n@@ -611,6 +609,39 @@\n    ],\n    \"cell_type\": \"markdown\",\n    \"metadata\": {}\n+  },\n+  {\n+   \"source\": [\n+    \"## Diff\\n\"\n+   ],\n+   \"cell_type\": \"markdown\",\n+   \"metadata\": {}\n+  },\n+  {\n+   \"cell_type\": \"code\",\n+   \"execution_count\": 4,\n+   \"metadata\": {},\n+   \"outputs\": [\n+    {\n+     \"output_type\": \"stream\",\n+     \"name\": \"stdout\",\n+     \"text\": [\n+      \"[<_pygit2.Patch object at 0x0000020DF9C9DAE0>]\\n\"\n+     ]\n+    }\n+   ],\n+   \"source\": [\n+    \"d = repo.diff('HEAD')\\n\",\n+    \"l = list(d)\\n\",\n+    \"print(l[0].text)\"\n+   ]\n+  },\n+  {\n+   \"cell_type\": \"code\",\n+   \"execution_count\": null,\n+   \"metadata\": {},\n+   \"outputs\": [],\n+   \"source\": []\n   }\n  ]\n }\n\\ No newline at end of file\n\n"
     ]
    }
   ],
   "source": [
    "d = repo.diff('HEAD')\n",
    "l = list(d)\n",
    "print(l[0].text)"
   ]
  },
  {
   "cell_type": "code",
   "execution_count": 7,
   "metadata": {},
   "outputs": [
    {
     "output_type": "execute_result",
     "data": {
      "text/plain": [
       "'refs/heads/master'"
      ]
     },
     "metadata": {},
     "execution_count": 7
    }
   ],
   "source": []
  },
  {
   "cell_type": "code",
   "execution_count": null,
   "metadata": {},
   "outputs": [],
   "source": []
  },
  {
   "source": [
    "## Status\n"
   ],
   "cell_type": "markdown",
   "metadata": {}
  },
  {
   "cell_type": "code",
   "execution_count": 4,
   "metadata": {},
   "outputs": [
    {
     "output_type": "stream",
     "name": "stdout",
     "text": [
      "GIT_STATUS_CURRENT=0\nGIT_STATUS_INDEX_NEW=1\nGIT_STATUS_INDEX_MODIFIED=2\nGIT_STATUS_INDEX_DELETED=4\nGIT_STATUS_INDEX_RENAMED=8\nGIT_STATUS_INDEX_TYPECHANGE=16\nGIT_STATUS_WT_NEW=128\nGIT_STATUS_WT_MODIFIED=256\nGIT_STATUS_WT_DELETED=512\nGIT_STATUS_WT_TYPECHANGE=1024\nGIT_STATUS_WT_RENAMED=2048\nGIT_STATUS_WT_UNREADABLE=4096\nGIT_STATUS_IGNORED=16384\nGIT_STATUS_CONFLICTED=32768\n"
     ]
    }
   ],
   "source": [
    "s = 'GIT_STATUS_CURRENT,GIT_STATUS_INDEX_NEW,GIT_STATUS_INDEX_MODIFIED,GIT_STATUS_INDEX_DELETED,GIT_STATUS_INDEX_RENAMED,GIT_STATUS_INDEX_TYPECHANGE,GIT_STATUS_WT_NEW,GIT_STATUS_WT_MODIFIED,GIT_STATUS_WT_DELETED,GIT_STATUS_WT_TYPECHANGE,GIT_STATUS_WT_RENAMED,GIT_STATUS_WT_UNREADABLE,GIT_STATUS_IGNORED,GIT_STATUS_CONFLICTED'\n",
    "names = s.split(',')\n",
    "from pygit2 import GIT_STATUS_CURRENT,GIT_STATUS_INDEX_NEW,GIT_STATUS_INDEX_MODIFIED,GIT_STATUS_INDEX_DELETED,GIT_STATUS_INDEX_RENAMED,GIT_STATUS_INDEX_TYPECHANGE,GIT_STATUS_WT_NEW,GIT_STATUS_WT_MODIFIED,GIT_STATUS_WT_DELETED,GIT_STATUS_WT_TYPECHANGE,GIT_STATUS_WT_RENAMED,GIT_STATUS_WT_UNREADABLE,GIT_STATUS_IGNORED,GIT_STATUS_CONFLICTED\n",
    "\n",
    "values = [GIT_STATUS_CURRENT,GIT_STATUS_INDEX_NEW,GIT_STATUS_INDEX_MODIFIED,GIT_STATUS_INDEX_DELETED,GIT_STATUS_INDEX_RENAMED,GIT_STATUS_INDEX_TYPECHANGE,GIT_STATUS_WT_NEW,GIT_STATUS_WT_MODIFIED,GIT_STATUS_WT_DELETED,GIT_STATUS_WT_TYPECHANGE,GIT_STATUS_WT_RENAMED,GIT_STATUS_WT_UNREADABLE,GIT_STATUS_IGNORED,GIT_STATUS_CONFLICTED]\n",
    "\n",
    "for n,v in zip(names,values):\n",
    "    print('{}={}'.format(n,v))\n",
    "\n",
    "\n",
    "def statusFlag(flag_int):\n",
    "    s = 'GIT_STATUS_CURRENT,GIT_STATUS_INDEX_NEW,GIT_STATUS_INDEX_MODIFIED,GIT_STATUS_INDEX_DELETED,GIT_STATUS_INDEX_RENAMED,GIT_STATUS_INDEX_TYPECHANGE,GIT_STATUS_WT_NEW,GIT_STATUS_WT_MODIFIED,GIT_STATUS_WT_DELETED,GIT_STATUS_WT_TYPECHANGE,GIT_STATUS_WT_RENAMED,GIT_STATUS_WT_UNREADABLE,GIT_STATUS_IGNORED,GIT_STATUS_CONFLICTED'\n",
    "    names = s.split(',')\n",
    "\n",
    "    values = [GIT_STATUS_CURRENT,GIT_STATUS_INDEX_NEW,GIT_STATUS_INDEX_MODIFIED,GIT_STATUS_INDEX_DELETED,GIT_STATUS_INDEX_RENAMED,GIT_STATUS_INDEX_TYPECHANGE,GIT_STATUS_WT_NEW,GIT_STATUS_WT_MODIFIED,GIT_STATUS_WT_DELETED,GIT_STATUS_WT_TYPECHANGE,GIT_STATUS_WT_RENAMED,GIT_STATUS_WT_UNREADABLE,GIT_STATUS_IGNORED,GIT_STATUS_CONFLICTED]\n",
    "\n",
    "    iii = None\n",
    "    result = []\n",
    "    for i,v in enumerate(values):\n",
    "        if v&flag_int!=0:\n",
    "            result.append(names[i])\n",
    "    return result\n",
    "\n",
    "\n"
   ]
  },
  {
   "cell_type": "code",
   "execution_count": 3,
   "metadata": {},
   "outputs": [
    {
     "output_type": "stream",
     "name": "stdout",
     "text": [
      "Filepath AutoGit2.ipynb isn't clean\n"
     ]
    }
   ],
   "source": [
    "from pygit2 import GIT_STATUS_CURRENT,GIT_STATUS_IGNORED\n",
    "status = repo.status()\n",
    "for filepath, flags in status.items():\n",
    "    if flags != GIT_STATUS_CURRENT:\n",
    "        print(\"Filepath %s isn't clean\" % filepath)"
   ]
  },
  {
   "cell_type": "code",
   "execution_count": 5,
   "metadata": {},
   "outputs": [
    {
     "output_type": "stream",
     "name": "stdout",
     "text": [
      "AutoGit2.ipynb:['GIT_STATUS_WT_MODIFIED'](256)\n"
     ]
    }
   ],
   "source": [
    "status = repo.status()\n",
    "for filepath, flag in status.items():\n",
    "    print('{}:{}({})'.format(filepath,statusFlag(flag),flag))"
   ]
  },
  {
   "cell_type": "code",
   "execution_count": null,
   "metadata": {},
   "outputs": [],
   "source": []
  }
 ]
}